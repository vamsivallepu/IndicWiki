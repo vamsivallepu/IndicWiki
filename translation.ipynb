{
 "cells": [
  {
   "cell_type": "code",
   "execution_count": 1,
   "id": "edd40265",
   "metadata": {},
   "outputs": [],
   "source": [
    "from anuvaad import Anuvaad\n",
    "anu = Anuvaad(\"english-telugu\")"
   ]
  },
  {
   "cell_type": "code",
   "execution_count": 6,
   "id": "75196636",
   "metadata": {},
   "outputs": [],
   "source": [
    "lis=[]"
   ]
  },
  {
   "cell_type": "code",
   "execution_count": 1,
   "id": "aa6a3512",
   "metadata": {},
   "outputs": [],
   "source": [
    "import pandas as pd\n",
    "import numpy as np"
   ]
  },
  {
   "cell_type": "code",
   "execution_count": 2,
   "id": "ce83cde9",
   "metadata": {},
   "outputs": [
    {
     "data": {
      "text/html": [
       "<div>\n",
       "<style scoped>\n",
       "    .dataframe tbody tr th:only-of-type {\n",
       "        vertical-align: middle;\n",
       "    }\n",
       "\n",
       "    .dataframe tbody tr th {\n",
       "        vertical-align: top;\n",
       "    }\n",
       "\n",
       "    .dataframe thead th {\n",
       "        text-align: right;\n",
       "    }\n",
       "</style>\n",
       "<table border=\"1\" class=\"dataframe\">\n",
       "  <thead>\n",
       "    <tr style=\"text-align: right;\">\n",
       "      <th></th>\n",
       "      <th>name</th>\n",
       "      <th>Telugu Name</th>\n",
       "      <th>Paradigm</th>\n",
       "      <th>Family</th>\n",
       "      <th>Designed by</th>\n",
       "      <th>First appeared</th>\n",
       "      <th>Stable release</th>\n",
       "      <th>Typing discipline</th>\n",
       "      <th>OS</th>\n",
       "      <th>Filename extensions</th>\n",
       "      <th>Website</th>\n",
       "      <th>Developer</th>\n",
       "      <th>Platform</th>\n",
       "      <th>License</th>\n",
       "      <th>Influenced by</th>\n",
       "      <th>references</th>\n",
       "    </tr>\n",
       "  </thead>\n",
       "  <tbody>\n",
       "    <tr>\n",
       "      <th>0</th>\n",
       "      <td>Ada (programming language)</td>\n",
       "      <td>అడా (ప్రోగ్రామింగ్ లాంగ్వేజ్)</td>\n",
       "      <td>Multi-paradigm: structured, imperative, object...</td>\n",
       "      <td>Pascal</td>\n",
       "      <td>\\nMIL-STD-1815, Ada 83: Jean Ichbiah\\nAda 95: ...</td>\n",
       "      <td>February 1980; 42 years ago (1980-02)</td>\n",
       "      <td>Ada 2012 TC1[1][2]\\n</td>\n",
       "      <td>static, strong, safe, nominative</td>\n",
       "      <td>Multi- or cross-platform</td>\n",
       "      <td>.adb, .ads</td>\n",
       "      <td>www.adaic.org</td>\n",
       "      <td>NaN</td>\n",
       "      <td>NaN</td>\n",
       "      <td>NaN</td>\n",
       "      <td>NaN</td>\n",
       "      <td>.mw-parser-output cite.citation{font-style:inh...</td>\n",
       "    </tr>\n",
       "    <tr>\n",
       "      <th>1</th>\n",
       "      <td>Assembly language</td>\n",
       "      <td>అసెంబ్లీ భాష</td>\n",
       "      <td>Imperative, unstructured</td>\n",
       "      <td>NaN</td>\n",
       "      <td>NaN</td>\n",
       "      <td>1949; 73 years ago (1949)</td>\n",
       "      <td>NaN</td>\n",
       "      <td>NaN</td>\n",
       "      <td>NaN</td>\n",
       "      <td>s,asm</td>\n",
       "      <td>NaN</td>\n",
       "      <td>NaN</td>\n",
       "      <td>NaN</td>\n",
       "      <td>NaN</td>\n",
       "      <td>NaN</td>\n",
       "      <td>Other than meta-assemblers | However, that doe...</td>\n",
       "    </tr>\n",
       "    <tr>\n",
       "      <th>2</th>\n",
       "      <td>APL (programming language)</td>\n",
       "      <td>APL (ప్రోగ్రామింగ్ లాంగ్వేజ్)</td>\n",
       "      <td>Array, functional, structured, modular</td>\n",
       "      <td>NaN</td>\n",
       "      <td>Kenneth E. Iverson</td>\n",
       "      <td>November 27, 1966; 55 years ago (1966-11-27)[1]</td>\n",
       "      <td>ISO/IEC 13751:2001\\n   / February 1, 2001; 21 ...</td>\n",
       "      <td>Dynamic</td>\n",
       "      <td>NaN</td>\n",
       "      <td>NaN</td>\n",
       "      <td>NaN</td>\n",
       "      <td>Larry Breed, Dick Lathwell, Roger Moore and ot...</td>\n",
       "      <td>Cross platform</td>\n",
       "      <td>Proprietary, open source</td>\n",
       "      <td>NaN</td>\n",
       "      <td>.mw-parser-output cite.citation{font-style:inh...</td>\n",
       "    </tr>\n",
       "    <tr>\n",
       "      <th>3</th>\n",
       "      <td>ALGOL</td>\n",
       "      <td>ఆల్గోల్</td>\n",
       "      <td>Procedural, imperative, structured</td>\n",
       "      <td>ALGOL</td>\n",
       "      <td>Bauer, Bottenbruch, Rutishauser, Samelson, Bac...</td>\n",
       "      <td>1958; 64 years ago (1958)</td>\n",
       "      <td>NaN</td>\n",
       "      <td>Static, strong</td>\n",
       "      <td>NaN</td>\n",
       "      <td>NaN</td>\n",
       "      <td>NaN</td>\n",
       "      <td>NaN</td>\n",
       "      <td>NaN</td>\n",
       "      <td>NaN</td>\n",
       "      <td>Fortran</td>\n",
       "      <td>The name of this language family is sometimes ...</td>\n",
       "    </tr>\n",
       "    <tr>\n",
       "      <th>4</th>\n",
       "      <td>AWK</td>\n",
       "      <td>AWK</td>\n",
       "      <td>Scripting, procedural, data-driven[1]</td>\n",
       "      <td>NaN</td>\n",
       "      <td>Alfred Aho, Peter Weinberger, and Brian Kernighan</td>\n",
       "      <td>1977; 45 years ago (1977)</td>\n",
       "      <td>IEEE Std 1003.1-2008 (POSIX) / 1985\\n</td>\n",
       "      <td>none; can handle strings, integers and floatin...</td>\n",
       "      <td>Cross-platform</td>\n",
       "      <td>NaN</td>\n",
       "      <td>NaN</td>\n",
       "      <td>NaN</td>\n",
       "      <td>NaN</td>\n",
       "      <td>NaN</td>\n",
       "      <td>C,SNOBOL,Bourne shell</td>\n",
       "      <td>Stutz, Michael (September 19, 2006). \"Get star...</td>\n",
       "    </tr>\n",
       "  </tbody>\n",
       "</table>\n",
       "</div>"
      ],
      "text/plain": [
       "                         name                    Telugu Name  \\\n",
       "0  Ada (programming language)  అడా (ప్రోగ్రామింగ్ లాంగ్వేజ్)   \n",
       "1           Assembly language                   అసెంబ్లీ భాష   \n",
       "2  APL (programming language)  APL (ప్రోగ్రామింగ్ లాంగ్వేజ్)   \n",
       "3                       ALGOL                        ఆల్గోల్   \n",
       "4                         AWK                            AWK   \n",
       "\n",
       "                                            Paradigm  Family  \\\n",
       "0  Multi-paradigm: structured, imperative, object...  Pascal   \n",
       "1                           Imperative, unstructured     NaN   \n",
       "2             Array, functional, structured, modular     NaN   \n",
       "3                 Procedural, imperative, structured   ALGOL   \n",
       "4              Scripting, procedural, data-driven[1]     NaN   \n",
       "\n",
       "                                         Designed by  \\\n",
       "0  \\nMIL-STD-1815, Ada 83: Jean Ichbiah\\nAda 95: ...   \n",
       "1                                                NaN   \n",
       "2                                 Kenneth E. Iverson   \n",
       "3  Bauer, Bottenbruch, Rutishauser, Samelson, Bac...   \n",
       "4  Alfred Aho, Peter Weinberger, and Brian Kernighan   \n",
       "\n",
       "                                    First appeared  \\\n",
       "0            February 1980; 42 years ago (1980-02)   \n",
       "1                        1949; 73 years ago (1949)   \n",
       "2  November 27, 1966; 55 years ago (1966-11-27)[1]   \n",
       "3                        1958; 64 years ago (1958)   \n",
       "4                        1977; 45 years ago (1977)   \n",
       "\n",
       "                                      Stable release  \\\n",
       "0                            Ada 2012 TC1[1][2]\\n      \n",
       "1                                                NaN   \n",
       "2  ISO/IEC 13751:2001\\n   / February 1, 2001; 21 ...   \n",
       "3                                                NaN   \n",
       "4           IEEE Std 1003.1-2008 (POSIX) / 1985\\n      \n",
       "\n",
       "                                   Typing discipline  \\\n",
       "0                   static, strong, safe, nominative   \n",
       "1                                                NaN   \n",
       "2                                            Dynamic   \n",
       "3                                     Static, strong   \n",
       "4  none; can handle strings, integers and floatin...   \n",
       "\n",
       "                         OS Filename extensions        Website  \\\n",
       "0  Multi- or cross-platform          .adb, .ads  www.adaic.org   \n",
       "1                       NaN               s,asm            NaN   \n",
       "2                       NaN                 NaN            NaN   \n",
       "3                       NaN                 NaN            NaN   \n",
       "4            Cross-platform                 NaN            NaN   \n",
       "\n",
       "                                           Developer        Platform  \\\n",
       "0                                                NaN             NaN   \n",
       "1                                                NaN             NaN   \n",
       "2  Larry Breed, Dick Lathwell, Roger Moore and ot...  Cross platform   \n",
       "3                                                NaN             NaN   \n",
       "4                                                NaN             NaN   \n",
       "\n",
       "                    License          Influenced by  \\\n",
       "0                       NaN                    NaN   \n",
       "1                       NaN                    NaN   \n",
       "2  Proprietary, open source                    NaN   \n",
       "3                       NaN                Fortran   \n",
       "4                       NaN  C,SNOBOL,Bourne shell   \n",
       "\n",
       "                                          references  \n",
       "0  .mw-parser-output cite.citation{font-style:inh...  \n",
       "1  Other than meta-assemblers | However, that doe...  \n",
       "2  .mw-parser-output cite.citation{font-style:inh...  \n",
       "3  The name of this language family is sometimes ...  \n",
       "4  Stutz, Michael (September 19, 2006). \"Get star...  "
      ]
     },
     "execution_count": 2,
     "metadata": {},
     "output_type": "execute_result"
    }
   ],
   "source": [
    "df=pd.read_csv(\"Translation.csv\")\n",
    "df.head()"
   ]
  },
  {
   "cell_type": "code",
   "execution_count": 11,
   "id": "d2eabcea",
   "metadata": {},
   "outputs": [
    {
     "name": "stdout",
     "output_type": "stream",
     "text": [
      "<class 'pandas.core.frame.DataFrame'>\n",
      "RangeIndex: 839 entries, 0 to 838\n",
      "Data columns (total 16 columns):\n",
      " #   Column               Non-Null Count  Dtype \n",
      "---  ------               --------------  ----- \n",
      " 0   name                 839 non-null    object\n",
      " 1   Telugu Name          839 non-null    object\n",
      " 2   Paradigm             568 non-null    object\n",
      " 3   Family               151 non-null    object\n",
      " 4   Designed by          590 non-null    object\n",
      " 5   First appeared       721 non-null    object\n",
      " 6   Stable release       453 non-null    object\n",
      " 7   Typing discipline    468 non-null    object\n",
      " 8   OS                   459 non-null    object\n",
      " 9   Filename extensions  303 non-null    object\n",
      " 10  Website              534 non-null    object\n",
      " 11  Developer            517 non-null    object\n",
      " 12  Platform             208 non-null    object\n",
      " 13  License              406 non-null    object\n",
      " 14  Influenced by        293 non-null    object\n",
      " 15  references           709 non-null    object\n",
      "dtypes: object(16)\n",
      "memory usage: 105.0+ KB\n"
     ]
    }
   ],
   "source": [
    "df.info()"
   ]
  },
  {
   "cell_type": "code",
   "execution_count": 10,
   "id": "7fc6e8f7",
   "metadata": {},
   "outputs": [],
   "source": [
    "lis=df[\"Family\"]"
   ]
  },
  {
   "cell_type": "code",
   "execution_count": 11,
   "id": "180f8ee9",
   "metadata": {},
   "outputs": [],
   "source": [
    "lis=list(lis)"
   ]
  },
  {
   "cell_type": "code",
   "execution_count": 55,
   "id": "b0f84b70",
   "metadata": {},
   "outputs": [],
   "source": [
    "from translate import Translator\n",
    "translator= Translator(to_lang=\"te\")"
   ]
  },
  {
   "cell_type": "code",
   "execution_count": null,
   "id": "d9af0554",
   "metadata": {},
   "outputs": [
    {
     "name": "stdout",
     "output_type": "stream",
     "text": [
      "1\n",
      "2\n",
      "3\n",
      "4\n",
      "5\n",
      "6\n",
      "7\n",
      "8\n",
      "9\n",
      "10\n",
      "11\n",
      "12\n",
      "13\n"
     ]
    }
   ],
   "source": [
    "translated=[]\n",
    "c=0\n",
    "for i in lis:\n",
    "    translated.append(anu.anuvaad(i))\n",
    "    c+=1\n",
    "    print(c)"
   ]
  },
  {
   "cell_type": "code",
   "execution_count": 3,
   "id": "4a6332c6",
   "metadata": {},
   "outputs": [],
   "source": [
    "from googletrans import Translator\n"
   ]
  },
  {
   "cell_type": "code",
   "execution_count": 4,
   "id": "c222c77a",
   "metadata": {},
   "outputs": [],
   "source": [
    "translator = Translator()"
   ]
  },
  {
   "cell_type": "code",
   "execution_count": 5,
   "id": "c89dc170",
   "metadata": {},
   "outputs": [],
   "source": [
    "from tqdm.notebook import trange, tqdm\n",
    "from time import sleep\n",
    "import math"
   ]
  },
  {
   "cell_type": "code",
   "execution_count": 9,
   "id": "63978308",
   "metadata": {},
   "outputs": [],
   "source": [
    "lis=df[\"Developer\"]\n",
    "trans=[]"
   ]
  },
  {
   "cell_type": "code",
   "execution_count": 10,
   "id": "81f30c8d",
   "metadata": {},
   "outputs": [
    {
     "data": {
      "application/vnd.jupyter.widget-view+json": {
       "model_id": "7adb492561424d8983418ea7a655e9fc",
       "version_major": 2,
       "version_minor": 0
      },
      "text/plain": [
       "  0%|          | 0/839 [00:00<?, ?it/s]"
      ]
     },
     "metadata": {},
     "output_type": "display_data"
    },
    {
     "name": "stdout",
     "output_type": "stream",
     "text": [
      "Exception occured for input 708 http://www.altarica-association.org/\n",
      "Exception occured for input 810 http://www.altarica-association.org/\n"
     ]
    }
   ],
   "source": [
    "for i in trange(len(lis)):\n",
    "    try:\n",
    "        if lis[i]==lis[i]:\n",
    "            trans.append(translator.translate(str(lis[i]), dest=\"te\").text)\n",
    "        else:\n",
    "            trans.append(np.nan)\n",
    "        sleep(0.25)\n",
    "    except:\n",
    "        trans.append(np.nan)\n",
    "        print(\"Exception occured for input {} {}\".format(i, lis[i]))"
   ]
  },
  {
   "cell_type": "code",
   "execution_count": 12,
   "id": "0dbeb7d3",
   "metadata": {},
   "outputs": [],
   "source": [
    "df[\"developer_telugu\"]=trans"
   ]
  },
  {
   "cell_type": "code",
   "execution_count": 45,
   "id": "56199dcf",
   "metadata": {},
   "outputs": [],
   "source": [
    "lis=df[\"Designed\\xa0by\"]"
   ]
  },
  {
   "cell_type": "code",
   "execution_count": 51,
   "id": "15b8047a",
   "metadata": {},
   "outputs": [
    {
     "data": {
      "application/vnd.jupyter.widget-view+json": {
       "model_id": "5aba82bf907e492a9d85aafb8cc8e2e4",
       "version_major": 2,
       "version_minor": 0
      },
      "text/plain": [
       "  0%|          | 0/839 [00:00<?, ?it/s]"
      ]
     },
     "metadata": {},
     "output_type": "display_data"
    }
   ],
   "source": [
    "designed_trans=[]\n",
    "for i in trange(len(lis)):\n",
    "    if lis[i]==lis[i]:\n",
    "        designed_trans.append(translator.translate(str(lis[i]), dest=\"te\").text)\n",
    "    else:\n",
    "        designed_trans.append(np.nan)"
   ]
  },
  {
   "cell_type": "code",
   "execution_count": 55,
   "id": "0306b42f",
   "metadata": {},
   "outputs": [],
   "source": [
    "df[\"designedBy_trans\"]=designed_trans"
   ]
  },
  {
   "cell_type": "code",
   "execution_count": 56,
   "id": "f393764c",
   "metadata": {},
   "outputs": [],
   "source": [
    "lis=df[\"First\\xa0appeared\"]"
   ]
  },
  {
   "cell_type": "code",
   "execution_count": 58,
   "id": "2d8526fc",
   "metadata": {},
   "outputs": [
    {
     "data": {
      "application/vnd.jupyter.widget-view+json": {
       "model_id": "54b94bebf10e433da11b2d3b94c8b590",
       "version_major": 2,
       "version_minor": 0
      },
      "text/plain": [
       "  0%|          | 0/839 [00:00<?, ?it/s]"
      ]
     },
     "metadata": {},
     "output_type": "display_data"
    }
   ],
   "source": [
    "year_trans=[]\n",
    "for i in trange(len(lis)):\n",
    "    if lis[i]==lis[i]:\n",
    "        year_trans.append(translator.translate(str(lis[i]), dest=\"te\").text)\n",
    "    else:\n",
    "        year_trans.append(np.nan)"
   ]
  },
  {
   "cell_type": "code",
   "execution_count": 60,
   "id": "2edfbcda",
   "metadata": {},
   "outputs": [],
   "source": [
    "df[\"year_trans\"]=year_trans"
   ]
  },
  {
   "cell_type": "code",
   "execution_count": 61,
   "id": "6f25f64f",
   "metadata": {},
   "outputs": [],
   "source": [
    "lis=df[\"Typing discipline\"]"
   ]
  },
  {
   "cell_type": "code",
   "execution_count": 63,
   "id": "2fa7dd72",
   "metadata": {},
   "outputs": [
    {
     "data": {
      "application/vnd.jupyter.widget-view+json": {
       "model_id": "4738eaee7eef448aac08f009c5d5480e",
       "version_major": 2,
       "version_minor": 0
      },
      "text/plain": [
       "  0%|          | 0/839 [00:00<?, ?it/s]"
      ]
     },
     "metadata": {},
     "output_type": "display_data"
    }
   ],
   "source": [
    "trans=[]\n",
    "for i in trange(len(lis)):\n",
    "    if lis[i]==lis[i]:\n",
    "        trans.append(translator.translate(str(lis[i]), dest=\"te\").text)\n",
    "    else:\n",
    "        trans.append(np.nan)\n",
    "        "
   ]
  },
  {
   "cell_type": "code",
   "execution_count": 65,
   "id": "8e37e348",
   "metadata": {},
   "outputs": [],
   "source": [
    "df[\"Typing Discipline_trans\"]=trans"
   ]
  },
  {
   "cell_type": "code",
   "execution_count": 67,
   "id": "1a392a09",
   "metadata": {},
   "outputs": [],
   "source": [
    "lis=df[\"OS\"]"
   ]
  },
  {
   "cell_type": "code",
   "execution_count": 68,
   "id": "5073af9f",
   "metadata": {},
   "outputs": [
    {
     "data": {
      "application/vnd.jupyter.widget-view+json": {
       "model_id": "180836d0d3194c1eab551775d6f18f12",
       "version_major": 2,
       "version_minor": 0
      },
      "text/plain": [
       "  0%|          | 0/839 [00:00<?, ?it/s]"
      ]
     },
     "metadata": {},
     "output_type": "display_data"
    }
   ],
   "source": [
    "trans=[]\n",
    "for i in trange(len(lis)):\n",
    "    if lis[i]==lis[i]:\n",
    "        trans.append(translator.translate(str(lis[i]), dest=\"te\").text)\n",
    "    else:\n",
    "        trans.append(np.nan)        "
   ]
  },
  {
   "cell_type": "code",
   "execution_count": 70,
   "id": "c872f7e0",
   "metadata": {},
   "outputs": [],
   "source": [
    "df[\"OS_trans\"]=trans"
   ]
  },
  {
   "cell_type": "code",
   "execution_count": 71,
   "id": "a6c12af5",
   "metadata": {},
   "outputs": [],
   "source": [
    "lis=df[\"Platform\"]"
   ]
  },
  {
   "cell_type": "code",
   "execution_count": 72,
   "id": "322999e6",
   "metadata": {},
   "outputs": [
    {
     "data": {
      "application/vnd.jupyter.widget-view+json": {
       "model_id": "1fa0ae969f4948beae93600a8880765f",
       "version_major": 2,
       "version_minor": 0
      },
      "text/plain": [
       "  0%|          | 0/839 [00:00<?, ?it/s]"
      ]
     },
     "metadata": {},
     "output_type": "display_data"
    }
   ],
   "source": [
    "trans=[]\n",
    "for i in trange(len(lis)):\n",
    "    if lis[i]==lis[i]:\n",
    "        trans.append(translator.translate(str(lis[i]), dest=\"te\").text)\n",
    "    else:\n",
    "        trans.append(np.nan)        "
   ]
  },
  {
   "cell_type": "code",
   "execution_count": 73,
   "id": "a3d71b7b",
   "metadata": {},
   "outputs": [],
   "source": [
    "df[\"platform_trans\"]=trans"
   ]
  },
  {
   "cell_type": "code",
   "execution_count": 74,
   "id": "9b3620a7",
   "metadata": {},
   "outputs": [],
   "source": [
    "lis=df[\"Influenced by\"]"
   ]
  },
  {
   "cell_type": "code",
   "execution_count": 75,
   "id": "5d5d938a",
   "metadata": {},
   "outputs": [
    {
     "data": {
      "application/vnd.jupyter.widget-view+json": {
       "model_id": "faf9102bebf640c5ae701bb7a76a727e",
       "version_major": 2,
       "version_minor": 0
      },
      "text/plain": [
       "  0%|          | 0/839 [00:00<?, ?it/s]"
      ]
     },
     "metadata": {},
     "output_type": "display_data"
    }
   ],
   "source": [
    "trans=[]\n",
    "for i in trange(len(lis)):\n",
    "    if lis[i]==lis[i]:\n",
    "        trans.append(translator.translate(str(lis[i]), dest=\"te\").text)\n",
    "    else:\n",
    "        trans.append(np.nan)        "
   ]
  },
  {
   "cell_type": "code",
   "execution_count": 77,
   "id": "248b86cb",
   "metadata": {},
   "outputs": [],
   "source": [
    "df[\"Influenced By_trans\"]=trans"
   ]
  },
  {
   "cell_type": "code",
   "execution_count": 79,
   "id": "39f84a05",
   "metadata": {},
   "outputs": [],
   "source": [
    "df.to_csv(\"not_completed.csv\")"
   ]
  },
  {
   "cell_type": "code",
   "execution_count": 2,
   "id": "237f31e1",
   "metadata": {},
   "outputs": [],
   "source": [
    "df2=pd.read_csv(\"not_completed.csv\")"
   ]
  },
  {
   "cell_type": "code",
   "execution_count": 13,
   "id": "a6e42643",
   "metadata": {},
   "outputs": [],
   "source": [
    "lis=df2[\"License\"]"
   ]
  },
  {
   "cell_type": "code",
   "execution_count": 14,
   "id": "d147b751",
   "metadata": {},
   "outputs": [
    {
     "data": {
      "application/vnd.jupyter.widget-view+json": {
       "model_id": "656eec33821a48cfbccd39e6aaad218a",
       "version_major": 2,
       "version_minor": 0
      },
      "text/plain": [
       "  0%|          | 0/839 [00:00<?, ?it/s]"
      ]
     },
     "metadata": {},
     "output_type": "display_data"
    }
   ],
   "source": [
    "trans=[]\n",
    "for i in trange(len(lis)):\n",
    "    if lis[i]==lis[i]:\n",
    "        trans.append(translator.translate(str(lis[i]), dest=\"te\").text)\n",
    "    else:\n",
    "        trans.append(np.nan)"
   ]
  },
  {
   "cell_type": "code",
   "execution_count": 16,
   "id": "0d74cbed",
   "metadata": {},
   "outputs": [],
   "source": [
    "df2[\"License_trans\"]=trans"
   ]
  },
  {
   "cell_type": "code",
   "execution_count": 13,
   "id": "deb76c69",
   "metadata": {},
   "outputs": [],
   "source": [
    "df.to_excel(\"transforxml.xlsx\")"
   ]
  },
  {
   "cell_type": "code",
   "execution_count": null,
   "id": "6ceec833",
   "metadata": {},
   "outputs": [],
   "source": []
  }
 ],
 "metadata": {
  "kernelspec": {
   "display_name": "Python 3",
   "language": "python",
   "name": "python3"
  },
  "language_info": {
   "codemirror_mode": {
    "name": "ipython",
    "version": 3
   },
   "file_extension": ".py",
   "mimetype": "text/x-python",
   "name": "python",
   "nbconvert_exporter": "python",
   "pygments_lexer": "ipython3",
   "version": "3.9.5"
  }
 },
 "nbformat": 4,
 "nbformat_minor": 5
}
