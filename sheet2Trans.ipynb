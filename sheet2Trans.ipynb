{
 "cells": [
  {
   "cell_type": "code",
   "execution_count": 1,
   "id": "ababd6cd",
   "metadata": {},
   "outputs": [],
   "source": [
    "import pandas as pd\n",
    "import numpy as np"
   ]
  },
  {
   "cell_type": "code",
   "execution_count": 2,
   "id": "153de169",
   "metadata": {},
   "outputs": [],
   "source": [
    "from googletrans import Translator\n",
    "from tqdm.notebook import trange, tqdm"
   ]
  },
  {
   "cell_type": "code",
   "execution_count": 3,
   "id": "0dcc107a",
   "metadata": {},
   "outputs": [],
   "source": [
    "from time import sleep\n",
    "import math"
   ]
  },
  {
   "cell_type": "code",
   "execution_count": 4,
   "id": "efd7fb2e",
   "metadata": {},
   "outputs": [],
   "source": [
    "translator = Translator()"
   ]
  },
  {
   "cell_type": "code",
   "execution_count": 5,
   "id": "65be57a8",
   "metadata": {},
   "outputs": [
    {
     "data": {
      "text/html": [
       "<div>\n",
       "<style scoped>\n",
       "    .dataframe tbody tr th:only-of-type {\n",
       "        vertical-align: middle;\n",
       "    }\n",
       "\n",
       "    .dataframe tbody tr th {\n",
       "        vertical-align: top;\n",
       "    }\n",
       "\n",
       "    .dataframe thead th {\n",
       "        text-align: right;\n",
       "    }\n",
       "</style>\n",
       "<table border=\"1\" class=\"dataframe\">\n",
       "  <thead>\n",
       "    <tr style=\"text-align: right;\">\n",
       "      <th></th>\n",
       "      <th>Programming Language Name</th>\n",
       "      <th>తెలుగు programming language name</th>\n",
       "      <th>Author/Developer</th>\n",
       "      <th>Telugu Author/Developer</th>\n",
       "      <th>Year</th>\n",
       "      <th>Country</th>\n",
       "      <th>Application Domain</th>\n",
       "      <th>Category</th>\n",
       "      <th>urls</th>\n",
       "      <th>Description</th>\n",
       "      <th>CurrentVersion</th>\n",
       "      <th>Type</th>\n",
       "      <th>Company/Organisation</th>\n",
       "      <th>Extension</th>\n",
       "      <th>Paradigm</th>\n",
       "      <th>Typing Discipline</th>\n",
       "      <th>Influenced By</th>\n",
       "      <th>Platform</th>\n",
       "      <th>References</th>\n",
       "    </tr>\n",
       "  </thead>\n",
       "  <tbody>\n",
       "    <tr>\n",
       "      <th>0</th>\n",
       "      <td>APE(X)C</td>\n",
       "      <td>NaN</td>\n",
       "      <td>Andrew Donald Booth</td>\n",
       "      <td>ఆండ్రూ డోనాల్డ్ బూత్</td>\n",
       "      <td>1950.0</td>\n",
       "      <td>United Kingdom</td>\n",
       "      <td>Excluded from Sammet  Initial orders</td>\n",
       "      <td>Coding system for the APE(X)C</td>\n",
       "      <td>https://hopl.info/showlanguage.prx?exp=770&amp;lan...</td>\n",
       "      <td>NaN</td>\n",
       "      <td>54</td>\n",
       "      <td>NaN</td>\n",
       "      <td>NaN</td>\n",
       "      <td>NaN</td>\n",
       "      <td>NaN</td>\n",
       "      <td>NaN</td>\n",
       "      <td>NaN</td>\n",
       "      <td>NaN</td>\n",
       "      <td>Birkbeck ukA  |  Kathleen Booth |  Andrew D.  ...</td>\n",
       "    </tr>\n",
       "    <tr>\n",
       "      <th>1</th>\n",
       "      <td>Flowchart</td>\n",
       "      <td>NaN</td>\n",
       "      <td>Carsten K. Gomard, Neil D. Jones, John Hatcliff</td>\n",
       "      <td>కార్స్టన్ K. గోమార్డ్, నీల్ D. జోన్స్, జాన్ హా...</td>\n",
       "      <td>1950.0</td>\n",
       "      <td>United States</td>\n",
       "      <td>NaN</td>\n",
       "      <td>Graphical programming system</td>\n",
       "      <td>https://hopl.info/showlanguage.prx?exp=8204&amp;la...</td>\n",
       "      <td>NaN</td>\n",
       "      <td>NaN</td>\n",
       "      <td>NaN</td>\n",
       "      <td>NaN</td>\n",
       "      <td>NaN</td>\n",
       "      <td>NaN</td>\n",
       "      <td>NaN</td>\n",
       "      <td>NaN</td>\n",
       "      <td>NaN</td>\n",
       "      <td>Sprague, Richard E.  (1972) Sprague, Richard E...</td>\n",
       "    </tr>\n",
       "    <tr>\n",
       "      <th>2</th>\n",
       "      <td>RAL</td>\n",
       "      <td>RAL</td>\n",
       "      <td>NaN</td>\n",
       "      <td>none</td>\n",
       "      <td>1950.0</td>\n",
       "      <td>United Kingdom</td>\n",
       "      <td>Excluded from Sammet  Initial orders</td>\n",
       "      <td>Regional Assembly Language</td>\n",
       "      <td>https://hopl.info/showlanguage.prx?exp=3961&amp;la...</td>\n",
       "      <td>Expert system.</td>\n",
       "      <td>2</td>\n",
       "      <td>NaN</td>\n",
       "      <td>NaN</td>\n",
       "      <td>NaN</td>\n",
       "      <td>NaN</td>\n",
       "      <td>NaN</td>\n",
       "      <td>NaN</td>\n",
       "      <td>NaN</td>\n",
       "      <td>NaN</td>\n",
       "    </tr>\n",
       "    <tr>\n",
       "      <th>3</th>\n",
       "      <td>&amp;-Prolog</td>\n",
       "      <td>&amp;-ప్రోలాగ్</td>\n",
       "      <td>Alain Colmerauer, Robert Kowalski</td>\n",
       "      <td>అలైన్ కోల్మెరౌర్, రాబర్ట్ కోవల్స్కీ</td>\n",
       "      <td>1990.0</td>\n",
       "      <td>Spain</td>\n",
       "      <td>String and List Processing  Horn clause</td>\n",
       "      <td>NaN</td>\n",
       "      <td>https://hopl.info/showlanguage.prx?exp=5480&amp;la...</td>\n",
       "      <td>NaN</td>\n",
       "      <td>NaN</td>\n",
       "      <td>NaN</td>\n",
       "      <td>NaN</td>\n",
       "      <td>NaN</td>\n",
       "      <td>NaN</td>\n",
       "      <td>NaN</td>\n",
       "      <td>NaN</td>\n",
       "      <td>NaN</td>\n",
       "      <td>Hermenegildo, M. (1990) Hermenegildo, M. ; K. ...</td>\n",
       "    </tr>\n",
       "    <tr>\n",
       "      <th>4</th>\n",
       "      <td>ABSTUR</td>\n",
       "      <td>ABSTUR</td>\n",
       "      <td>NaN</td>\n",
       "      <td>none</td>\n",
       "      <td>1990.0</td>\n",
       "      <td>Canada</td>\n",
       "      <td>NaN</td>\n",
       "      <td>NaN</td>\n",
       "      <td>https://hopl.info/showlanguage.prx?exp=8169&amp;la...</td>\n",
       "      <td>Abstract Turing. Operational version of SPECTUR.</td>\n",
       "      <td>NaN</td>\n",
       "      <td>NaN</td>\n",
       "      <td>NaN</td>\n",
       "      <td>NaN</td>\n",
       "      <td>NaN</td>\n",
       "      <td>NaN</td>\n",
       "      <td>NaN</td>\n",
       "      <td>NaN</td>\n",
       "      <td>(1991) \"Formal Specification in Metamorphic P...</td>\n",
       "    </tr>\n",
       "  </tbody>\n",
       "</table>\n",
       "</div>"
      ],
      "text/plain": [
       "  Programming Language Name తెలుగు programming language name  \\\n",
       "0                   APE(X)C                              NaN   \n",
       "1                 Flowchart                              NaN   \n",
       "2                       RAL                              RAL   \n",
       "3                  &-Prolog                       &-ప్రోలాగ్   \n",
       "4                    ABSTUR                           ABSTUR   \n",
       "\n",
       "                                  Author/Developer  \\\n",
       "0                              Andrew Donald Booth   \n",
       "1  Carsten K. Gomard, Neil D. Jones, John Hatcliff   \n",
       "2                                              NaN   \n",
       "3                Alain Colmerauer, Robert Kowalski   \n",
       "4                                              NaN   \n",
       "\n",
       "                             Telugu Author/Developer    Year         Country  \\\n",
       "0                               ఆండ్రూ డోనాల్డ్ బూత్  1950.0  United Kingdom   \n",
       "1  కార్స్టన్ K. గోమార్డ్, నీల్ D. జోన్స్, జాన్ హా...  1950.0   United States   \n",
       "2                                               none  1950.0  United Kingdom   \n",
       "3                అలైన్ కోల్మెరౌర్, రాబర్ట్ కోవల్స్కీ  1990.0           Spain   \n",
       "4                                               none  1990.0          Canada   \n",
       "\n",
       "                        Application Domain                       Category  \\\n",
       "0     Excluded from Sammet  Initial orders  Coding system for the APE(X)C   \n",
       "1                                      NaN   Graphical programming system   \n",
       "2     Excluded from Sammet  Initial orders     Regional Assembly Language   \n",
       "3  String and List Processing  Horn clause                            NaN   \n",
       "4                                      NaN                            NaN   \n",
       "\n",
       "                                                urls  \\\n",
       "0  https://hopl.info/showlanguage.prx?exp=770&lan...   \n",
       "1  https://hopl.info/showlanguage.prx?exp=8204&la...   \n",
       "2  https://hopl.info/showlanguage.prx?exp=3961&la...   \n",
       "3  https://hopl.info/showlanguage.prx?exp=5480&la...   \n",
       "4  https://hopl.info/showlanguage.prx?exp=8169&la...   \n",
       "\n",
       "                                        Description CurrentVersion  Type  \\\n",
       "0                                               NaN             54   NaN   \n",
       "1                                               NaN            NaN   NaN   \n",
       "2                                    Expert system.              2   NaN   \n",
       "3                                               NaN            NaN   NaN   \n",
       "4  Abstract Turing. Operational version of SPECTUR.            NaN   NaN   \n",
       "\n",
       "  Company/Organisation Extension Paradigm Typing Discipline Influenced By  \\\n",
       "0                  NaN       NaN      NaN               NaN           NaN   \n",
       "1                  NaN       NaN      NaN               NaN           NaN   \n",
       "2                  NaN       NaN      NaN               NaN           NaN   \n",
       "3                  NaN       NaN      NaN               NaN           NaN   \n",
       "4                  NaN       NaN      NaN               NaN           NaN   \n",
       "\n",
       "  Platform                                         References  \n",
       "0      NaN  Birkbeck ukA  |  Kathleen Booth |  Andrew D.  ...  \n",
       "1      NaN  Sprague, Richard E.  (1972) Sprague, Richard E...  \n",
       "2      NaN                                                NaN  \n",
       "3      NaN  Hermenegildo, M. (1990) Hermenegildo, M. ; K. ...  \n",
       "4      NaN   (1991) \"Formal Specification in Metamorphic P...  "
      ]
     },
     "execution_count": 5,
     "metadata": {},
     "output_type": "execute_result"
    }
   ],
   "source": [
    "df=pd.read_csv(\"Sheet2.csv\")\n",
    "df.head()"
   ]
  },
  {
   "cell_type": "code",
   "execution_count": 6,
   "id": "42a87499",
   "metadata": {},
   "outputs": [],
   "source": [
    "lis=list(df[\"Description\"])"
   ]
  },
  {
   "cell_type": "code",
   "execution_count": 10,
   "id": "3f52bdad",
   "metadata": {},
   "outputs": [],
   "source": [
    "lis1=lis[4000:]"
   ]
  },
  {
   "cell_type": "code",
   "execution_count": 12,
   "id": "6488225e",
   "metadata": {},
   "outputs": [
    {
     "data": {
      "application/vnd.jupyter.widget-view+json": {
       "model_id": "3be0f630bd7d4c27b0b77b84ea9345c1",
       "version_major": 2,
       "version_minor": 0
      },
      "text/plain": [
       "  0%|          | 0/4214 [00:00<?, ?it/s]"
      ]
     },
     "metadata": {},
     "output_type": "display_data"
    }
   ],
   "source": [
    "for i in trange(len(lis1)):\n",
    "    try:\n",
    "        if lis1[i]==lis1[i]:\n",
    "            trans.append(translator.translate(str(lis1[i]), dest=\"te\").text)\n",
    "        else:\n",
    "            trans.append(np.nan)\n",
    "        sleep(0.25)\n",
    "    except:\n",
    "        trans.append(np.nan)\n",
    "        print(\"Exception occured for input {} {}\".format(i, lis[i]))"
   ]
  },
  {
   "cell_type": "code",
   "execution_count": 14,
   "id": "1a79b3d3",
   "metadata": {},
   "outputs": [
    {
     "data": {
      "text/plain": [
       "8214"
      ]
     },
     "execution_count": 14,
     "metadata": {},
     "output_type": "execute_result"
    }
   ],
   "source": [
    "len(trans)"
   ]
  },
  {
   "cell_type": "code",
   "execution_count": 15,
   "id": "976fcaec",
   "metadata": {},
   "outputs": [],
   "source": [
    "df[\"description_trans\"]=trans"
   ]
  },
  {
   "cell_type": "code",
   "execution_count": 11,
   "id": "a2c341a2",
   "metadata": {},
   "outputs": [],
   "source": [
    "for i in trans:\n",
    "    t.append(i)"
   ]
  },
  {
   "cell_type": "code",
   "execution_count": 16,
   "id": "1a387c34",
   "metadata": {},
   "outputs": [],
   "source": [
    "df.to_excel(\"desctransFinal.xlsx\")"
   ]
  },
  {
   "cell_type": "code",
   "execution_count": 52,
   "id": "32ccd8f3",
   "metadata": {},
   "outputs": [],
   "source": [
    "lis8=lis[7000:]"
   ]
  },
  {
   "cell_type": "code",
   "execution_count": 53,
   "id": "58332b0c",
   "metadata": {},
   "outputs": [
    {
     "data": {
      "application/vnd.jupyter.widget-view+json": {
       "model_id": "715dd60c37314789838afce2113cacc4",
       "version_major": 2,
       "version_minor": 0
      },
      "text/plain": [
       "  0%|          | 0/1214 [00:00<?, ?it/s]"
      ]
     },
     "metadata": {},
     "output_type": "display_data"
    }
   ],
   "source": [
    "for i in trange(len(lis8)):\n",
    "    try:\n",
    "        if lis8[i]==lis8[i]:\n",
    "            trans.append(translator.translate(str(lis8[i]), dest=\"te\").text)\n",
    "        else:\n",
    "            trans.append(np.nan)\n",
    "        sleep(0.25)\n",
    "    except:\n",
    "        trans.append(np.nan)\n",
    "        print(\"Exception occured for input {} {}\".format(i, lis[i]))"
   ]
  },
  {
   "cell_type": "code",
   "execution_count": 54,
   "id": "dbdf2c58",
   "metadata": {},
   "outputs": [
    {
     "data": {
      "text/plain": [
       "8214"
      ]
     },
     "execution_count": 54,
     "metadata": {},
     "output_type": "execute_result"
    }
   ],
   "source": [
    "len(trans)"
   ]
  },
  {
   "cell_type": "code",
   "execution_count": 56,
   "id": "189a90bd",
   "metadata": {},
   "outputs": [],
   "source": [
    "df[\"Country_trans\"]=trans"
   ]
  },
  {
   "cell_type": "code",
   "execution_count": 62,
   "id": "db2af7a4",
   "metadata": {},
   "outputs": [],
   "source": [
    "df.to_excel(\"backup.xlsx\")"
   ]
  },
  {
   "cell_type": "code",
   "execution_count": 58,
   "id": "f1fbbfa4",
   "metadata": {},
   "outputs": [],
   "source": [
    "lis=df[\"Application Domain\"].to_list()"
   ]
  },
  {
   "cell_type": "code",
   "execution_count": 61,
   "id": "e202f7a4",
   "metadata": {},
   "outputs": [],
   "source": [
    "trans=[]"
   ]
  },
  {
   "cell_type": "code",
   "execution_count": 63,
   "id": "c1ec2596",
   "metadata": {},
   "outputs": [
    {
     "data": {
      "application/vnd.jupyter.widget-view+json": {
       "model_id": "159787ab98dd4776851cdcde60a5129b",
       "version_major": 2,
       "version_minor": 0
      },
      "text/plain": [
       "  0%|          | 0/4000 [00:00<?, ?it/s]"
      ]
     },
     "metadata": {},
     "output_type": "display_data"
    }
   ],
   "source": [
    "for i in trange(len(lis[:4000])):\n",
    "    try:\n",
    "        if lis[i]==lis[i]:\n",
    "            trans.append(translator.translate(str(lis[i]), dest=\"te\").text)\n",
    "        else:\n",
    "            trans.append(np.nan)\n",
    "        sleep(0.25)\n",
    "    except:\n",
    "        trans.append(np.nan)\n",
    "        print(\"Exception occured for input {} {}\".format(i, lis[i]))"
   ]
  },
  {
   "cell_type": "code",
   "execution_count": 65,
   "id": "2c761014",
   "metadata": {},
   "outputs": [],
   "source": [
    "for i in range(4214):\n",
    "    trans.append(np.nan)"
   ]
  },
  {
   "cell_type": "code",
   "execution_count": 66,
   "id": "4f73bca7",
   "metadata": {},
   "outputs": [
    {
     "data": {
      "text/plain": [
       "8214"
      ]
     },
     "execution_count": 66,
     "metadata": {},
     "output_type": "execute_result"
    }
   ],
   "source": [
    "len(trans)"
   ]
  },
  {
   "cell_type": "code",
   "execution_count": 67,
   "id": "f79179d6",
   "metadata": {},
   "outputs": [],
   "source": [
    "df[\"Application Domain_trans\"]=trans"
   ]
  },
  {
   "cell_type": "code",
   "execution_count": 69,
   "id": "9f1def3f",
   "metadata": {},
   "outputs": [],
   "source": [
    "df.to_excel(\"Final Translated.xlsx\")"
   ]
  },
  {
   "cell_type": "code",
   "execution_count": null,
   "id": "c2c572cc",
   "metadata": {},
   "outputs": [],
   "source": []
  }
 ],
 "metadata": {
  "kernelspec": {
   "display_name": "Python 3",
   "language": "python",
   "name": "python3"
  },
  "language_info": {
   "codemirror_mode": {
    "name": "ipython",
    "version": 3
   },
   "file_extension": ".py",
   "mimetype": "text/x-python",
   "name": "python",
   "nbconvert_exporter": "python",
   "pygments_lexer": "ipython3",
   "version": "3.9.5"
  }
 },
 "nbformat": 4,
 "nbformat_minor": 5
}
